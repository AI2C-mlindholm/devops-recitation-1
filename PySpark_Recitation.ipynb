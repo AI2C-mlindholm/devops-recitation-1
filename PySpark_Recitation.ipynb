{
  "nbformat": 4,
  "nbformat_minor": 0,
  "metadata": {
    "colab": {
      "provenance": [],
      "include_colab_link": true
    },
    "kernelspec": {
      "name": "python3",
      "display_name": "Python 3"
    },
    "language_info": {
      "name": "python"
    }
  },
  "cells": [
    {
      "cell_type": "markdown",
      "metadata": {
        "id": "view-in-github",
        "colab_type": "text"
      },
      "source": [
        "<a href=\"https://colab.research.google.com/github/AI2C-mlindholm/devops-recitation-1/blob/main/PySpark_Recitation.ipynb\" target=\"_parent\"><img src=\"https://colab.research.google.com/assets/colab-badge.svg\" alt=\"Open In Colab\"/></a>"
      ]
    },
    {
      "cell_type": "code",
      "source": [
        "!pip install pyspark"
      ],
      "metadata": {
        "id": "4CE3I0kSaZxt"
      },
      "execution_count": null,
      "outputs": []
    },
    {
      "cell_type": "code",
      "execution_count": null,
      "metadata": {
        "id": "RzI5cvIAaSHQ"
      },
      "outputs": [],
      "source": [
        "import pyspark as ps\n",
        "import pyspark.sql.functions as f\n",
        "from pyspark.sql.types import *\n",
        "from pyspark.sql import SparkSession"
      ]
    },
    {
      "cell_type": "code",
      "source": [
        "from pyspark import SparkContext\n",
        "\n",
        "# Create a SparkContext object\n",
        "sc = SparkContext()"
      ],
      "metadata": {
        "id": "BSojkiQja8zl"
      },
      "execution_count": null,
      "outputs": []
    },
    {
      "cell_type": "markdown",
      "source": [
        "# RDD Functions"
      ],
      "metadata": {
        "id": "MRrxLXWodxEq"
      }
    },
    {
      "cell_type": "markdown",
      "source": [
        "### Map"
      ],
      "metadata": {
        "id": "qoigEJ4xbvdV"
      }
    },
    {
      "cell_type": "code",
      "source": [
        "data = sc.parallelize([\"1\", \"2\", \"3\", \"4\", \"5\"])"
      ],
      "metadata": {
        "id": "ZNN0uwk8auzd"
      },
      "execution_count": null,
      "outputs": []
    },
    {
      "cell_type": "code",
      "source": [
        "# @title\n",
        "# Without lambda\n",
        "def parse_to_int(x):\n",
        "    return int(x)\n",
        "\n",
        "parsed_data = data.map(parse_to_int)"
      ],
      "metadata": {
        "cellView": "form",
        "id": "Kmskxo7q6VaF"
      },
      "execution_count": null,
      "outputs": []
    },
    {
      "cell_type": "code",
      "source": [
        "# @title\n",
        "parsed_data = data.map(lambda x: float(x))"
      ],
      "metadata": {
        "id": "VfH7HGdgaX3k",
        "cellView": "form"
      },
      "execution_count": null,
      "outputs": []
    },
    {
      "cell_type": "code",
      "source": [
        "parsed_data.collect()\n"
      ],
      "metadata": {
        "id": "Cv8N3mr6auiU"
      },
      "execution_count": null,
      "outputs": []
    },
    {
      "cell_type": "markdown",
      "source": [
        "### Reduce"
      ],
      "metadata": {
        "id": "y5-mr4A3b0bw"
      }
    },
    {
      "cell_type": "code",
      "source": [
        "sales_data = sc.parallelize([(\"Apple\", 50), (\"Banana\", 30), (\"Apple\", 20), (\"Orange\", 40), (\"Banana\", 25)])"
      ],
      "metadata": {
        "id": "wR2KmfNtbGzx"
      },
      "execution_count": null,
      "outputs": []
    },
    {
      "cell_type": "code",
      "source": [
        "# @title\n",
        "total_sales = sales_data.reduceByKey(lambda x, y: x + y)\n",
        "total_sales.collect()"
      ],
      "metadata": {
        "colab": {
          "base_uri": "https://localhost:8080/"
        },
        "id": "Gl2J0ig3bLnm",
        "outputId": "f5053500-a5d0-464b-d454-d4d6ad446a9c"
      },
      "execution_count": null,
      "outputs": [
        {
          "output_type": "execute_result",
          "data": {
            "text/plain": [
              "[('Apple', 70), ('Orange', 40), ('Banana', 55)]"
            ]
          },
          "metadata": {},
          "execution_count": 14
        }
      ]
    },
    {
      "cell_type": "markdown",
      "source": [
        "### Extracting Top Elements"
      ],
      "metadata": {
        "id": "71tlQS8OcVvv"
      }
    },
    {
      "cell_type": "code",
      "source": [
        "word_counts = sc.parallelize([(\"apple\", 10), (\"banana\", 5), (\"orange\", 8), (\"apple\", 15), (\"banana\", 12)])"
      ],
      "metadata": {
        "id": "jyUAahH7b_a9"
      },
      "execution_count": null,
      "outputs": []
    },
    {
      "cell_type": "code",
      "source": [
        "# @title\n",
        "top_words = word_counts.top(2, key=lambda x: x[1])\n",
        "top_words"
      ],
      "metadata": {
        "id": "5CTCqO8rcZVg",
        "cellView": "form"
      },
      "execution_count": null,
      "outputs": []
    },
    {
      "cell_type": "markdown",
      "source": [
        "### Filter"
      ],
      "metadata": {
        "id": "BEtwFFtjEzJ_"
      }
    },
    {
      "cell_type": "code",
      "source": [
        "# @title\n",
        "rdd = sc.parallelize([1, 2, 3, 4, 5, 6, 7, 8, 9, 10])\n",
        "filtered_rdd = rdd.filter(lambda num: num % 3 != 0)\n",
        "filtered_rdd.collect()"
      ],
      "metadata": {
        "cellView": "form",
        "id": "u0hFs8siE1Tc"
      },
      "execution_count": null,
      "outputs": []
    },
    {
      "cell_type": "markdown",
      "source": [
        "These examples demonstrate the versatility of PySpark's RDD functions in various data processing scenarios."
      ],
      "metadata": {
        "id": "6WacibY_ch14"
      }
    },
    {
      "cell_type": "markdown",
      "source": [
        "# Dataframe Functions"
      ],
      "metadata": {
        "id": "JrHG4y6id277"
      }
    },
    {
      "cell_type": "code",
      "source": [
        "from pyspark.sql import SparkSession\n",
        "\n",
        "# Create a SparkSession\n",
        "spark = SparkSession.builder \\\n",
        "    .appName(\"example_app\") \\\n",
        "    .getOrCreate()"
      ],
      "metadata": {
        "id": "Gq2Au2snfRCa"
      },
      "execution_count": null,
      "outputs": []
    },
    {
      "cell_type": "code",
      "source": [
        "# Define the schema for the dataset\n",
        "schema = StructType([\n",
        "    StructField(\"category\", StringType(), True),\n",
        "    StructField(\"product\", StringType(), True),\n",
        "    StructField(\"price\", IntegerType(), True)\n",
        "])\n",
        "\n",
        "# Define the data\n",
        "data = [\n",
        "    (\"Electronics\", \"Laptop\", 1200),\n",
        "    (\"Electronics\", \"Smartphone\", 800),\n",
        "    (\"Clothing\", \"T-Shirt\", 20),\n",
        "    (\"Clothing\", \"Jeans\", 50),\n",
        "    (\"Books\", \"Fiction\", 15),\n",
        "    (\"Books\", \"Non-Fiction\", 25)\n",
        "]\n",
        "\n",
        "# Create a DataFrame from the data and schema\n",
        "raw_df = spark.createDataFrame(data, schema=schema)\n",
        "\n",
        "# Show the DataFrame\n",
        "raw_df.show()"
      ],
      "metadata": {
        "id": "bq5MT31Rccdq"
      },
      "execution_count": null,
      "outputs": []
    },
    {
      "cell_type": "markdown",
      "source": [
        "### Grouping and Aggregation"
      ],
      "metadata": {
        "id": "oPfwnYrff5TK"
      }
    },
    {
      "cell_type": "code",
      "source": [
        "# @title\n",
        "avg_prices_df = raw_df.groupBy('category').agg(\n",
        "    f.avg('product').alias('avg_price')\n",
        ")\n",
        "avg_prices_df.show()"
      ],
      "metadata": {
        "id": "HdPCls76fVZn",
        "cellView": "form"
      },
      "execution_count": null,
      "outputs": []
    },
    {
      "cell_type": "markdown",
      "source": [
        "### Sorting\n",
        "\n",
        "\n",
        "\n",
        "\n"
      ],
      "metadata": {
        "id": "FFgVwxD4gCQq"
      }
    },
    {
      "cell_type": "code",
      "source": [
        "# @title\n",
        "#sorted_df = raw_df.orderBy('price', ascending=True)\n",
        "sorted_df = raw_df.sort(raw_df['price'].asc())\n",
        "sorted_df.show()"
      ],
      "metadata": {
        "id": "cl4xEr__f0Sm",
        "cellView": "form"
      },
      "execution_count": null,
      "outputs": []
    },
    {
      "cell_type": "markdown",
      "source": [
        "### Selection"
      ],
      "metadata": {
        "id": "qojtqvwLgMIr"
      }
    },
    {
      "cell_type": "code",
      "source": [
        "# @title\n",
        "selected_df = raw_df.select('category', 'product')\n",
        "selected_df.show()"
      ],
      "metadata": {
        "id": "ED1DnoEFgAdS",
        "cellView": "form"
      },
      "execution_count": null,
      "outputs": []
    },
    {
      "cell_type": "markdown",
      "source": [
        "# Other Functions"
      ],
      "metadata": {
        "id": "YghHyXmzjjJG"
      }
    },
    {
      "cell_type": "markdown",
      "source": [
        "### Split"
      ],
      "metadata": {
        "id": "Kifh6Fcrj_lc"
      }
    },
    {
      "cell_type": "code",
      "source": [
        "data = sc.parallelize([\"Hello World\", \"Python Programming\", \"Big Data\"])"
      ],
      "metadata": {
        "id": "eWx6-FFphuxK"
      },
      "execution_count": null,
      "outputs": []
    },
    {
      "cell_type": "code",
      "source": [
        "# @title\n",
        "split_data = data.map(lambda x: x.split(' '))\n",
        "split_data.collect()"
      ],
      "metadata": {
        "id": "vopeVUHVkB2X",
        "cellView": "form"
      },
      "execution_count": null,
      "outputs": []
    },
    {
      "cell_type": "markdown",
      "source": [
        "### flatMap"
      ],
      "metadata": {
        "id": "DbQSIOyykNWZ"
      }
    },
    {
      "cell_type": "code",
      "source": [
        "# @title\n",
        "split_data = data.flatMap(lambda x: x.split(' '))\n",
        "split_data.collect()"
      ],
      "metadata": {
        "id": "ih6yDZLPkL7K",
        "cellView": "form"
      },
      "execution_count": null,
      "outputs": []
    },
    {
      "cell_type": "markdown",
      "source": [
        "### partitionBy"
      ],
      "metadata": {
        "id": "8HmTutlpkw--"
      }
    },
    {
      "cell_type": "code",
      "source": [
        "# @title\n",
        "data = sc.parallelize([\"apple\", \"banana\", \"orange\", \"car\", \"boat\", \"bike\", \"sun\", \"moon\", \"star\"]) \\\n",
        "          .map(lambda x: (x[0], x))"
      ],
      "metadata": {
        "id": "YmCeBYSfkdvZ",
        "cellView": "form"
      },
      "execution_count": null,
      "outputs": []
    },
    {
      "cell_type": "code",
      "source": [
        "partitioned_data = data.partitionBy(3)\n",
        "partitioned_data.glom().collect()"
      ],
      "metadata": {
        "id": "WyKhIEQNk2Hq"
      },
      "execution_count": null,
      "outputs": []
    },
    {
      "cell_type": "code",
      "source": [],
      "metadata": {
        "id": "oc6EtP0slSpS"
      },
      "execution_count": null,
      "outputs": []
    }
  ]
}